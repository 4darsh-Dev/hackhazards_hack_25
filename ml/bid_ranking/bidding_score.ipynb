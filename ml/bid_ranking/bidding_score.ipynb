{
 "cells": [
  {
   "cell_type": "code",
   "execution_count": 19,
   "metadata": {},
   "outputs": [],
   "source": [
    "import pandas as pd\n",
    "from sklearn.linear_model import LinearRegression\n",
    "import numpy as np\n",
    "import matplotlib.pyplot as plt\n",
    "from sklearn.model_selection import train_test_split"
   ]
  },
  {
   "cell_type": "code",
   "execution_count": 26,
   "metadata": {},
   "outputs": [],
   "source": [
    "# Set random seed for reproducibility\n",
    "np.random.seed(42)\n",
    "\n",
    "# Generate 100 data points\n",
    "num_samples = 10000\n",
    "\n",
    "# Features\n",
    "bid_clarity = np.random.randint(4, 11, num_samples)  # Range: 4 to 10\n",
    "experience_level = np.random.randint(1, 11, num_samples)  # Range: 1 to 10 years\n",
    "price = np.random.randint(300, 800, num_samples)  # Balanced price range: $300 - $800\n",
    "reputation_score = np.random.randint(3, 10, num_samples)  # Range: 3 to 10\n",
    "\n",
    "# Target Variable: Bid Rank (Simulated as a weighted sum with some noise)\n",
    "bid_rank = (\n",
    "    (bid_clarity * 3) + (experience_level * 2) + (10 - np.abs(price - 550) / 50) + (reputation_score * 4)\n",
    "    + np.random.normal(0, 5, num_samples)  # Adding some noise\n",
    ")\n",
    "\n",
    "# Create DataFrame\n",
    "df = pd.DataFrame({\n",
    "    \"Bid Clarity\": bid_clarity,\n",
    "    \"Experience Level\": experience_level,\n",
    "    \"Price ($)\": price,\n",
    "    \"Reputation Score\": reputation_score,\n",
    "    \"Bid Rank (Target)\": np.round(bid_rank, 2)\n",
    "})"
   ]
  },
  {
   "cell_type": "code",
   "execution_count": 27,
   "metadata": {},
   "outputs": [
    {
     "data": {
      "text/html": [
       "<div>\n",
       "<style scoped>\n",
       "    .dataframe tbody tr th:only-of-type {\n",
       "        vertical-align: middle;\n",
       "    }\n",
       "\n",
       "    .dataframe tbody tr th {\n",
       "        vertical-align: top;\n",
       "    }\n",
       "\n",
       "    .dataframe thead th {\n",
       "        text-align: right;\n",
       "    }\n",
       "</style>\n",
       "<table border=\"1\" class=\"dataframe\">\n",
       "  <thead>\n",
       "    <tr style=\"text-align: right;\">\n",
       "      <th></th>\n",
       "      <th>Bid Clarity</th>\n",
       "      <th>Experience Level</th>\n",
       "      <th>Price ($)</th>\n",
       "      <th>Reputation Score</th>\n",
       "      <th>Bid Rank (Target)</th>\n",
       "    </tr>\n",
       "  </thead>\n",
       "  <tbody>\n",
       "    <tr>\n",
       "      <th>0</th>\n",
       "      <td>10</td>\n",
       "      <td>2</td>\n",
       "      <td>455</td>\n",
       "      <td>5</td>\n",
       "      <td>63.83</td>\n",
       "    </tr>\n",
       "    <tr>\n",
       "      <th>1</th>\n",
       "      <td>7</td>\n",
       "      <td>7</td>\n",
       "      <td>792</td>\n",
       "      <td>4</td>\n",
       "      <td>57.59</td>\n",
       "    </tr>\n",
       "    <tr>\n",
       "      <th>2</th>\n",
       "      <td>8</td>\n",
       "      <td>9</td>\n",
       "      <td>697</td>\n",
       "      <td>5</td>\n",
       "      <td>59.96</td>\n",
       "    </tr>\n",
       "    <tr>\n",
       "      <th>3</th>\n",
       "      <td>10</td>\n",
       "      <td>10</td>\n",
       "      <td>308</td>\n",
       "      <td>8</td>\n",
       "      <td>92.85</td>\n",
       "    </tr>\n",
       "    <tr>\n",
       "      <th>4</th>\n",
       "      <td>6</td>\n",
       "      <td>2</td>\n",
       "      <td>414</td>\n",
       "      <td>4</td>\n",
       "      <td>38.68</td>\n",
       "    </tr>\n",
       "    <tr>\n",
       "      <th>...</th>\n",
       "      <td>...</td>\n",
       "      <td>...</td>\n",
       "      <td>...</td>\n",
       "      <td>...</td>\n",
       "      <td>...</td>\n",
       "    </tr>\n",
       "    <tr>\n",
       "      <th>9995</th>\n",
       "      <td>6</td>\n",
       "      <td>1</td>\n",
       "      <td>301</td>\n",
       "      <td>6</td>\n",
       "      <td>51.53</td>\n",
       "    </tr>\n",
       "    <tr>\n",
       "      <th>9996</th>\n",
       "      <td>8</td>\n",
       "      <td>2</td>\n",
       "      <td>631</td>\n",
       "      <td>4</td>\n",
       "      <td>52.91</td>\n",
       "    </tr>\n",
       "    <tr>\n",
       "      <th>9997</th>\n",
       "      <td>5</td>\n",
       "      <td>6</td>\n",
       "      <td>779</td>\n",
       "      <td>6</td>\n",
       "      <td>61.89</td>\n",
       "    </tr>\n",
       "    <tr>\n",
       "      <th>9998</th>\n",
       "      <td>6</td>\n",
       "      <td>10</td>\n",
       "      <td>789</td>\n",
       "      <td>4</td>\n",
       "      <td>67.26</td>\n",
       "    </tr>\n",
       "    <tr>\n",
       "      <th>9999</th>\n",
       "      <td>5</td>\n",
       "      <td>10</td>\n",
       "      <td>499</td>\n",
       "      <td>7</td>\n",
       "      <td>82.34</td>\n",
       "    </tr>\n",
       "  </tbody>\n",
       "</table>\n",
       "<p>10000 rows × 5 columns</p>\n",
       "</div>"
      ],
      "text/plain": [
       "      Bid Clarity  Experience Level  ...  Reputation Score  Bid Rank (Target)\n",
       "0              10                 2  ...                 5              63.83\n",
       "1               7                 7  ...                 4              57.59\n",
       "2               8                 9  ...                 5              59.96\n",
       "3              10                10  ...                 8              92.85\n",
       "4               6                 2  ...                 4              38.68\n",
       "...           ...               ...  ...               ...                ...\n",
       "9995            6                 1  ...                 6              51.53\n",
       "9996            8                 2  ...                 4              52.91\n",
       "9997            5                 6  ...                 6              61.89\n",
       "9998            6                10  ...                 4              67.26\n",
       "9999            5                10  ...                 7              82.34\n",
       "\n",
       "[10000 rows x 5 columns]"
      ]
     },
     "execution_count": 27,
     "metadata": {},
     "output_type": "execute_result"
    }
   ],
   "source": [
    "df"
   ]
  },
  {
   "cell_type": "code",
   "execution_count": null,
   "metadata": {},
   "outputs": [
    {
     "data": {
      "text/plain": [
       "<matplotlib.collections.PathCollection at 0x7ee7a347a480>"
      ]
     },
     "execution_count": 28,
     "metadata": {},
     "output_type": "execute_result"
    },
    {
     "data": {
      "image/png": "[encoded data removed]",
      "text/plain": [
       "<Figure size 640x480 with 1 Axes>"
      ]
     },
     "metadata": {},
     "output_type": "display_data"
    }
   ],
   "source": [
    "# plt.scatter(df[\"Bid Clarity\"] , df[\"Bid Rank (Target)\"])\n",
    "# plt.scatter(df[\"Experience Level\"] , df[\"Bid Rank (Target)\"])\n",
    "# plt.scatter(df[\"Price ($)\"] , df[\"Bid Rank (Target)\"])\n",
    "# plt.scatter(df[\"Reputation Score\"] , df[\"Bid Rank (Target)\"])"
   ]
  },
  {
   "cell_type": "code",
   "execution_count": 29,
   "metadata": {},
   "outputs": [],
   "source": [
    "x = df.drop(\"Bid Rank (Target)\" , axis=1)\n",
    "y = df[\"Bid Rank (Target)\"]"
   ]
  },
  {
   "cell_type": "code",
   "execution_count": 30,
   "metadata": {},
   "outputs": [
    {
     "data": {
      "text/plain": [
       "0.8309637807126156"
      ]
     },
     "execution_count": 30,
     "metadata": {},
     "output_type": "execute_result"
    }
   ],
   "source": [
    "model = LinearRegression()\n",
    "xtrain , xtest , ytrain ,ytest = train_test_split(x,y,train_size=.9)\n",
    "model.fit(xtrain,ytrain)\n",
    "model.score(xtest,ytest)"
   ]
  },
  {
   "cell_type": "code",
   "execution_count": 32,
   "metadata": {},
   "outputs": [
    {
     "data": {
      "text/plain": [
       "['bid_ranking_model.pkl']"
      ]
     },
     "execution_count": 32,
     "metadata": {},
     "output_type": "execute_result"
    }
   ],
   "source": [
    "import joblib\n",
    "\n",
    "# exporting the coeff of the model to be used again and again\n",
    "joblib.dump(model, \"bid_ranking_model.pkl\")"
   ]
  },
  {
   "cell_type": "code",
   "execution_count": null,
   "metadata": {},
   "outputs": [],
   "source": []
  }
 ],
 "metadata": {
  "kernelspec": {
   "display_name": "myenv",
   "language": "python",
   "name": "python3"
  },
  "language_info": {
   "codemirror_mode": {
    "name": "ipython",
    "version": 3
   },
   "file_extension": ".py",
   "mimetype": "text/x-python",
   "name": "python",
   "nbconvert_exporter": "python",
   "pygments_lexer": "ipython3",
   "version": "3.12.3"
  }
 },
 "nbformat": 4,
 "nbformat_minor": 2
}
